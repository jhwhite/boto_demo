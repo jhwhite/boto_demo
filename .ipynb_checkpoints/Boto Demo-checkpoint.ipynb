{
 "cells": [
  {
   "cell_type": "markdown",
   "metadata": {},
   "source": [
    "# AWS Using BOTO3 - PYTHON!!"
   ]
  },
  {
   "cell_type": "markdown",
   "metadata": {},
   "source": [
    "\n",
    "## Create one ec2 instance.\n"
   ]
  },
  {
   "cell_type": "code",
   "execution_count": 1,
   "metadata": {
    "collapsed": false
   },
   "outputs": [
    {
     "data": {
      "text/plain": [
       "[ec2.Instance(id='i-b78cdd36')]"
      ]
     },
     "execution_count": 1,
     "metadata": {},
     "output_type": "execute_result"
    }
   ],
   "source": [
    "import boto3\n",
    "from pprint import pprint\n",
    "\n",
    "ec2 = boto3.resource('ec2')\n",
    "\n",
    "\n",
    "ec2.create_instances(ImageId='ami-d05e75b8', MinCount=1, MaxCount=1, InstanceType='t2.micro')"
   ]
  },
  {
   "cell_type": "markdown",
   "metadata": {},
   "source": [
    "## Check health status"
   ]
  },
  {
   "cell_type": "code",
   "execution_count": 3,
   "metadata": {
    "collapsed": false
   },
   "outputs": [
    {
     "name": "stdout",
     "output_type": "stream",
     "text": [
      "{'AvailabilityZone': 'us-east-1b',\n",
      " 'InstanceId': 'i-b78cdd36',\n",
      " 'InstanceState': {'Code': 16, 'Name': 'running'},\n",
      " 'InstanceStatus': {'Details': [{'Name': 'reachability',\n",
      "                                 'Status': 'initializing'}],\n",
      "                    'Status': 'initializing'},\n",
      " 'SystemStatus': {'Details': [{'Name': 'reachability', 'Status': 'passed'}],\n",
      "                  'Status': 'ok'}}\n",
      "The current status is ok.\n"
     ]
    }
   ],
   "source": [
    "for status in ec2.meta.client.describe_instance_status()['InstanceStatuses']:\n",
    "    pprint(status)\n",
    "    print(\"The current status is: {}.\".format(status['SystemStatus']['Status']))"
   ]
  },
  {
   "cell_type": "code",
   "execution_count": null,
   "metadata": {
    "collapsed": true
   },
   "outputs": [],
   "source": []
  }
 ],
 "metadata": {
  "kernelspec": {
   "display_name": "Python 3",
   "language": "python",
   "name": "python3"
  },
  "language_info": {
   "codemirror_mode": {
    "name": "ipython",
    "version": 3
   },
   "file_extension": ".py",
   "mimetype": "text/x-python",
   "name": "python",
   "nbconvert_exporter": "python",
   "pygments_lexer": "ipython3",
   "version": "3.4.3"
  }
 },
 "nbformat": 4,
 "nbformat_minor": 0
}
